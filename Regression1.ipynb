{
 "cells": [
  {
   "cell_type": "code",
   "execution_count": 1,
   "metadata": {},
   "outputs": [],
   "source": [
    "import numpy as np\n",
    "import pandas as pd\n",
    "import matplotlib.pyplot as plt\n",
    "%matplotlib inline"
   ]
  },
  {
   "cell_type": "code",
   "execution_count": 5,
   "metadata": {},
   "outputs": [],
   "source": [
    "x=10*np.random.randn(100)"
   ]
  },
  {
   "cell_type": "code",
   "execution_count": 9,
   "metadata": {},
   "outputs": [],
   "source": [
    "y=x*np.random.rand(100)"
   ]
  },
  {
   "cell_type": "code",
   "execution_count": 11,
   "metadata": {},
   "outputs": [
    {
     "data": {
      "image/png": "[encoded data removed]",
      "text/plain": [
       "<Figure size 720x360 with 1 Axes>"
      ]
     },
     "metadata": {
      "needs_background": "light"
     },
     "output_type": "display_data"
    }
   ],
   "source": [
    "plt.figure(figsize=(10,5))\n",
    "plt.scatter(x,y,color='red')\n",
    "plt.show()"
   ]
  },
  {
   "cell_type": "code",
   "execution_count": 12,
   "metadata": {},
   "outputs": [
    {
     "data": {
      "text/plain": [
       "(100,)"
      ]
     },
     "execution_count": 12,
     "metadata": {},
     "output_type": "execute_result"
    }
   ],
   "source": [
    "x.shape"
   ]
  },
  {
   "cell_type": "code",
   "execution_count": 20,
   "metadata": {},
   "outputs": [
    {
     "data": {
      "text/plain": [
       "array([[ 2.68460693e+00],\n",
       "       [-6.75191323e-01],\n",
       "       [ 2.01125361e+00],\n",
       "       [ 6.22940072e+00],\n",
       "       [ 6.54447455e+00],\n",
       "       [-1.15539329e+01],\n",
       "       [-5.23994585e-01],\n",
       "       [ 1.08182604e+00],\n",
       "       [-6.22997493e-01],\n",
       "       [ 8.32164962e+00],\n",
       "       [ 8.81224000e+00],\n",
       "       [ 1.17177067e+01],\n",
       "       [-4.79935296e+00],\n",
       "       [ 2.40608970e+00],\n",
       "       [-3.36571769e+00],\n",
       "       [-2.54999997e+00],\n",
       "       [ 1.09298117e+00],\n",
       "       [-3.33011029e+00],\n",
       "       [-3.04427005e+00],\n",
       "       [-6.57471655e+00],\n",
       "       [ 7.39529679e+00],\n",
       "       [-6.79801316e-01],\n",
       "       [ 4.66393084e+00],\n",
       "       [ 8.39568931e-01],\n",
       "       [-1.91701844e-01],\n",
       "       [ 2.31160013e+01],\n",
       "       [ 8.39207816e-01],\n",
       "       [-4.44183963e+00],\n",
       "       [ 4.01248329e-02],\n",
       "       [ 1.50399915e-01],\n",
       "       [-9.39282983e+00],\n",
       "       [ 5.28476719e-01],\n",
       "       [ 1.44257340e+00],\n",
       "       [-1.08477751e+01],\n",
       "       [-1.05044649e+01],\n",
       "       [ 3.67685929e+00],\n",
       "       [ 3.50034533e-02],\n",
       "       [-1.29747612e+00],\n",
       "       [ 7.81298077e-01],\n",
       "       [ 7.81078490e+00],\n",
       "       [-2.18348291e-01],\n",
       "       [-5.93715601e+00],\n",
       "       [-1.20407014e-01],\n",
       "       [ 1.09633801e+01],\n",
       "       [ 5.41236017e-02],\n",
       "       [-9.70503237e-02],\n",
       "       [-1.18104519e+01],\n",
       "       [ 4.74335730e+00],\n",
       "       [-8.88966755e-01],\n",
       "       [ 2.77214414e+00],\n",
       "       [-9.55052934e-01],\n",
       "       [-1.21771132e+00],\n",
       "       [ 1.61211401e-01],\n",
       "       [-8.24266019e+00],\n",
       "       [-1.73188395e+01],\n",
       "       [ 6.40726388e+00],\n",
       "       [-8.39830532e-01],\n",
       "       [ 1.95091516e-01],\n",
       "       [ 4.39306942e+00],\n",
       "       [-4.09973294e-01],\n",
       "       [-1.42614269e+00],\n",
       "       [ 1.74633772e+00],\n",
       "       [-1.00752839e+01],\n",
       "       [-2.14240356e+01],\n",
       "       [-2.41366882e+00],\n",
       "       [-3.15408617e+00],\n",
       "       [-3.04409666e+00],\n",
       "       [-1.45776390e+01],\n",
       "       [-8.29319732e+00],\n",
       "       [ 6.56958466e-01],\n",
       "       [ 1.69749228e-01],\n",
       "       [-5.18134060e-01],\n",
       "       [ 4.32403279e-01],\n",
       "       [ 1.70638196e+00],\n",
       "       [ 1.74317687e+01],\n",
       "       [-3.70845844e+00],\n",
       "       [ 7.16387356e+00],\n",
       "       [-1.95423131e+00],\n",
       "       [ 4.66721024e-01],\n",
       "       [-3.85014713e+00],\n",
       "       [-4.05854432e-01],\n",
       "       [ 1.66651476e-02],\n",
       "       [ 2.92965132e+00],\n",
       "       [-3.09728579e-01],\n",
       "       [-2.15042250e+00],\n",
       "       [-3.97532166e+00],\n",
       "       [-1.21902150e+01],\n",
       "       [ 1.27004576e-01],\n",
       "       [ 3.23709585e+00],\n",
       "       [-2.32502879e+00],\n",
       "       [-6.39254705e+00],\n",
       "       [-3.09805281e-02],\n",
       "       [ 9.92317963e-01],\n",
       "       [ 3.24843222e+00],\n",
       "       [ 9.75152479e+00],\n",
       "       [ 8.77617891e-01],\n",
       "       [ 7.94130488e+00],\n",
       "       [-7.35114650e+00],\n",
       "       [ 2.36655639e-01],\n",
       "       [-3.57786824e-01]])"
      ]
     },
     "execution_count": 20,
     "metadata": {},
     "output_type": "execute_result"
    }
   ],
   "source": [
    "y.reshape(-1,1)"
   ]
  },
  {
   "cell_type": "code",
   "execution_count": 27,
   "metadata": {},
   "outputs": [],
   "source": [
    "x=pd.DataFrame(data=x)"
   ]
  },
  {
   "cell_type": "code",
   "execution_count": 22,
   "metadata": {},
   "outputs": [
    {
     "data": {
      "text/plain": [
       "(100, 1)"
      ]
     },
     "execution_count": 22,
     "metadata": {},
     "output_type": "execute_result"
    }
   ],
   "source": [
    "df.shape"
   ]
  },
  {
   "cell_type": "code",
   "execution_count": 23,
   "metadata": {},
   "outputs": [],
   "source": [
    "from sklearn.linear_model import LinearRegression"
   ]
  },
  {
   "cell_type": "code",
   "execution_count": 24,
   "metadata": {},
   "outputs": [],
   "source": [
    "lr=LinearRegression()"
   ]
  },
  {
   "cell_type": "code",
   "execution_count": 28,
   "metadata": {},
   "outputs": [
    {
     "data": {
      "text/plain": [
       "LinearRegression(copy_X=True, fit_intercept=True, n_jobs=1, normalize=False)"
      ]
     },
     "execution_count": 28,
     "metadata": {},
     "output_type": "execute_result"
    }
   ],
   "source": [
    "lr.fit(x,y)"
   ]
  },
  {
   "cell_type": "code",
   "execution_count": 29,
   "metadata": {},
   "outputs": [],
   "source": [
    "pred=lr.predict(x)"
   ]
  },
  {
   "cell_type": "code",
   "execution_count": 30,
   "metadata": {
    "scrolled": true
   },
   "outputs": [
    {
     "data": {
      "image/png": "[encoded data removed]",
      "text/plain": [
       "<Figure size 720x360 with 1 Axes>"
      ]
     },
     "metadata": {
      "needs_background": "light"
     },
     "output_type": "display_data"
    }
   ],
   "source": [
    "plt.figure(figsize=(10,5))\n",
    "plt.scatter(x,y)\n",
    "plt.plot(x,pred,color='red')\n",
    "plt.show()"
   ]
  },
  {
   "cell_type": "code",
   "execution_count": 46,
   "metadata": {},
   "outputs": [],
   "source": [
    "from sklearn.metrics import mean_squared_error,r2_score"
   ]
  },
  {
   "cell_type": "code",
   "execution_count": 35,
   "metadata": {},
   "outputs": [
    {
     "name": "stdout",
     "output_type": "stream",
     "text": [
      "R2_score: 0.6961521383816501\n",
      "mse : 12.504917059608431\n"
     ]
    }
   ],
   "source": [
    "print(\"R2_score:\",r2_score(y,pred))\n",
    "print('mse :',mean_squared_error(y,pred))"
   ]
  },
  {
   "cell_type": "code",
   "execution_count": 36,
   "metadata": {},
   "outputs": [
    {
     "data": {
      "text/plain": [
       "array([0.48090822])"
      ]
     },
     "execution_count": 36,
     "metadata": {},
     "output_type": "execute_result"
    }
   ],
   "source": [
    "lr.coef_"
   ]
  },
  {
   "cell_type": "code",
   "execution_count": 38,
   "metadata": {},
   "outputs": [
    {
     "data": {
      "text/plain": [
       "-0.3439989767946477"
      ]
     },
     "execution_count": 38,
     "metadata": {},
     "output_type": "execute_result"
    }
   ],
   "source": [
    "lr.intercept_"
   ]
  },
  {
   "cell_type": "code",
   "execution_count": null,
   "metadata": {},
   "outputs": [],
   "source": []
  },
  {
   "cell_type": "code",
   "execution_count": 39,
   "metadata": {},
   "outputs": [
    {
     "data": {
      "text/plain": [
       "LinearRegression(copy_X=True, fit_intercept=True, n_jobs=1, normalize=False)"
      ]
     },
     "execution_count": 39,
     "metadata": {},
     "output_type": "execute_result"
    }
   ],
   "source": [
    "lr"
   ]
  },
  {
   "cell_type": "code",
   "execution_count": 40,
   "metadata": {},
   "outputs": [],
   "source": [
    "lr=LinearRegression(normalize=True)"
   ]
  },
  {
   "cell_type": "code",
   "execution_count": 41,
   "metadata": {},
   "outputs": [
    {
     "data": {
      "text/plain": [
       "LinearRegression(copy_X=True, fit_intercept=True, n_jobs=1, normalize=True)"
      ]
     },
     "execution_count": 41,
     "metadata": {},
     "output_type": "execute_result"
    }
   ],
   "source": [
    "lr"
   ]
  },
  {
   "cell_type": "code",
   "execution_count": 42,
   "metadata": {},
   "outputs": [
    {
     "data": {
      "text/plain": [
       "LinearRegression(copy_X=True, fit_intercept=True, n_jobs=1, normalize=True)"
      ]
     },
     "execution_count": 42,
     "metadata": {},
     "output_type": "execute_result"
    }
   ],
   "source": [
    "lr.fit(x,y)"
   ]
  },
  {
   "cell_type": "code",
   "execution_count": 43,
   "metadata": {},
   "outputs": [],
   "source": [
    "pred1=lr.predict(x)"
   ]
  },
  {
   "cell_type": "code",
   "execution_count": 48,
   "metadata": {},
   "outputs": [
    {
     "name": "stdout",
     "output_type": "stream",
     "text": [
      "r2_score: 0.6961521383816501\n",
      "mse: 12.504917059608431\n"
     ]
    }
   ],
   "source": [
    "print(\"r2_score:\",r2_score(y,pred1))\n",
    "print('mse:',mean_squared_error(y,pred1))"
   ]
  },
  {
   "cell_type": "code",
   "execution_count": null,
   "metadata": {},
   "outputs": [],
   "source": []
  },
  {
   "cell_type": "code",
   "execution_count": null,
   "metadata": {},
   "outputs": [],
   "source": []
  },
  {
   "cell_type": "code",
   "execution_count": null,
   "metadata": {},
   "outputs": [],
   "source": []
  }
 ],
 "metadata": {
  "kernelspec": {
   "display_name": "Python 3",
   "language": "python",
   "name": "python3"
  },
  "language_info": {
   "codemirror_mode": {
    "name": "ipython",
    "version": 3
   },
   "file_extension": ".py",
   "mimetype": "text/x-python",
   "name": "python",
   "nbconvert_exporter": "python",
   "pygments_lexer": "ipython3",
   "version": "3.7.0"
  }
 },
 "nbformat": 4,
 "nbformat_minor": 2
}
